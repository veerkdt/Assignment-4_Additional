{
 "cells": [
  {
   "cell_type": "markdown",
   "metadata": {},
   "source": [
    "1) Write a Python program which accepts a list named : randomList = ['a', 0,2]. \n",
    "Use exception handling using try-catch which gives the output as:\n",
    "Output\n",
    "1) If the List element is a alphabet or string, the output will be\n",
    "The entry is a\n",
    "Oops! <class 'ValueError'> occured.\n",
    "Next entry.\n",
    "2) If the List element is “0”,the output will be\n",
    "The entry is 0\n",
    "Oops! <class 'ZeroDivisionError'> occured.\n",
    "Next entry.\n",
    "3) If the List element is and integer except 0,then output will be\n",
    "The entry is 2\n",
    "The reciprocal of 2 is 0.5 // reciprocal of an integer"
   ]
  },
  {
   "cell_type": "code",
   "execution_count": null,
   "metadata": {},
   "outputs": [],
   "source": [
    "randomList = ['a',0,2]\n",
    "\n",
    "for i in randomList:\n",
    "    try:\n",
    "        n=int(i)\n",
    "        res= 1/i\n",
    "    except ZeroDivisionError:\n",
    "        print(\"The entry is 0 \\nOops! <class 'ZeroDivisionError'> occured. \")    \n",
    "    except ValueError:\n",
    "        print(\"The entry is {} \\nOops! <class 'ValueError'> occured. \".format(i))\n",
    "    else:   \n",
    "        print (\"The entry is {} \\nThe reciprocal of {} is {}\".format(i,i,res))"
   ]
  },
  {
   "cell_type": "markdown",
   "metadata": {},
   "source": [
    "2)Write a Python program to give exception “Array Out of Bound” if the\n",
    "user wants to access the elements beyond the list size (use try and exce\n",
    "pt)"
   ]
  },
  {
   "cell_type": "code",
   "execution_count": 46,
   "metadata": {},
   "outputs": [
    {
     "name": "stdout",
     "output_type": "stream",
     "text": [
      "1\n",
      "2\n",
      "3\n",
      "Array Out of Bound\n"
     ]
    }
   ],
   "source": [
    "my_lst=[1,2,3]\n",
    "\n",
    "for i in range (0, len(my_lst)+1):\n",
    "    try:\n",
    "        print (my_lst[i])\n",
    "    except Exception:\n",
    "        print(\"Array Out of Bound\")"
   ]
  },
  {
   "cell_type": "markdown",
   "metadata": {},
   "source": [
    "3) Write a python module script that contains fib2() method to calculate the\n",
    "fibonacci series till 1000 and save it as fibo.py."
   ]
  },
  {
   "cell_type": "code",
   "execution_count": 47,
   "metadata": {},
   "outputs": [],
   "source": [
    "def fib2(n): # return Fibonacci series up to 1000\n",
    "    result = []\n",
    "    a, b = 0, 1\n",
    "    while b < 1000:\n",
    "        result.append(b)\n",
    "        a, b = b, a+b\n",
    "    return result"
   ]
  },
  {
   "cell_type": "markdown",
   "metadata": {},
   "source": [
    "4.Write a python module script that contains ispalindrome() method to\n",
    "calculate the input string as palindrome string or not and save it as\n",
    "palindrome.py"
   ]
  },
  {
   "cell_type": "code",
   "execution_count": 48,
   "metadata": {},
   "outputs": [],
   "source": [
    "def reverse(s): \n",
    "    return s[::-1]\n",
    "\n",
    "def isPalindrome(s): \n",
    "    # Calling reverse function \n",
    "    rev = reverse(s) \n",
    "  \n",
    "    # Checking if both string are equal or not \n",
    "    if (s == rev): \n",
    "        return True\n",
    "    return False"
   ]
  },
  {
   "cell_type": "code",
   "execution_count": null,
   "metadata": {},
   "outputs": [],
   "source": []
  },
  {
   "cell_type": "code",
   "execution_count": null,
   "metadata": {},
   "outputs": [],
   "source": []
  }
 ],
 "metadata": {
  "kernelspec": {
   "display_name": "Python 3",
   "language": "python",
   "name": "python3"
  },
  "language_info": {
   "codemirror_mode": {
    "name": "ipython",
    "version": 3
   },
   "file_extension": ".py",
   "mimetype": "text/x-python",
   "name": "python",
   "nbconvert_exporter": "python",
   "pygments_lexer": "ipython3",
   "version": "3.7.0"
  }
 },
 "nbformat": 4,
 "nbformat_minor": 2
}
